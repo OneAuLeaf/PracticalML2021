{
 "cells": [
  {
   "cell_type": "markdown",
   "metadata": {},
   "source": [
    "## Часть первая, в которой появляются данные"
   ]
  },
  {
   "cell_type": "markdown",
   "metadata": {},
   "source": [
    "### Импорты"
   ]
  },
  {
   "cell_type": "code",
   "execution_count": 1,
   "metadata": {},
   "outputs": [],
   "source": [
    "from PIL import Image, ImageDraw, ImageOps\n",
    "import random\n",
    "import matplotlib.pyplot as plt\n",
    "import matplotlib.patches as patches\n",
    "%matplotlib inline"
   ]
  },
  {
   "cell_type": "markdown",
   "metadata": {},
   "source": [
    "### Генерируем датасет"
   ]
  },
  {
   "cell_type": "markdown",
   "metadata": {},
   "source": [
    "Сгенирируем синтетический датасет из `5000` изображений, каждое размером `64x64`. На каждом изображении расположено до `4` объектов, повернутых на случайный угол в диапазоне `[-45, 45]` градусов."
   ]
  },
  {
   "cell_type": "code",
   "execution_count": 2,
   "metadata": {},
   "outputs": [],
   "source": [
    "def one_hot(x, n_class):\n",
    "    return [int(x == i) for i in range(n_class)]"
   ]
  },
  {
   "cell_type": "code",
   "execution_count": 3,
   "metadata": {},
   "outputs": [],
   "source": [
    "dataset_size = 5000\n",
    "n_class = 2\n",
    "paths = [\"src/doge_d.png\", \"src/cat_d.png\", None]\n",
    "labels = [\"doge\", \"cat\", \"none\"]\n",
    "im_size = 16\n",
    "\n",
    "cell_w = 32\n",
    "cell_h = 32\n",
    "grid_w = 2\n",
    "grid_h = 2\n",
    "image_w = grid_w * cell_w\n",
    "image_h = grid_h * cell_h\n",
    "\n",
    "random.seed(0)"
   ]
  },
  {
   "cell_type": "code",
   "execution_count": 11,
   "metadata": {},
   "outputs": [],
   "source": [
    "for idx in range(1, dataset_size + 1):\n",
    "    image = Image.new(\"RGB\", (image_w, image_h), \"black\")\n",
    "    draw = ImageDraw.Draw(image)\n",
    "\n",
    "    with open(f\"labels/{idx}.txt\", \"w+\") as file:\n",
    "        for row in range(grid_w):\n",
    "            for col in range(grid_h):\n",
    "                j = random.randint(0, n_class)\n",
    "                label, path, vec = labels[j], paths[j], one_hot(j, n_class + 1)\n",
    "                if label == \"none\":\n",
    "                    file.write(\" \".join(map(str, vec)) + \"\\n\")\n",
    "                    file.write(f\"{col*cell_w+cell_w/2} {row*cell_h+cell_h/2} {cell_w} {cell_h}\\n\")\n",
    "                    file.write(\"0\\n\")\n",
    "                else:\n",
    "                    im = Image.open(path)\n",
    "                    im = im.resize((im_size,im_size))\n",
    "                    x = random.randrange(col * cell_w, (col + 1) * cell_w)\n",
    "                    y = random.randrange(row * cell_w, min(67, (row + 1) * cell_h))\n",
    "                    rotate = random.randrange(-45, 45)\n",
    "                    mirror = random.randint(0, 1)\n",
    "\n",
    "                    if mirror: \n",
    "                        im = ImageOps.mirror(im)\n",
    "                    im = im.rotate(rotate, resample=Image.BICUBIC)\n",
    "                    \n",
    "                    image.paste(im, (x - im_size // 2, y - im_size // 2), im)\n",
    "                    file.write(\" \".join(map(str, vec)) + \"\\n\")\n",
    "                    file.write(f\"{x} {y} {im_size} {im_size}\\n\")\n",
    "                    file.write(\"1\\n\")\n",
    "        file.write(\"---\\n\")\n",
    "\n",
    "    image.save(f\"images/{idx}.png\")"
   ]
  },
  {
   "cell_type": "markdown",
   "metadata": {},
   "source": [
    "Посмотрим, что получилось."
   ]
  },
  {
   "cell_type": "code",
   "execution_count": 12,
   "metadata": {},
   "outputs": [
    {
     "data": {
      "image/png": "[encoded data removed]",
      "text/plain": [
       "<Figure size 1800x360 with 5 Axes>"
      ]
     },
     "metadata": {
      "needs_background": "light"
     },
     "output_type": "display_data"
    }
   ],
   "source": [
    "fig = plt.figure(figsize=(25, 5))\n",
    "axes = fig.subplots(1, 5)\n",
    "samples = [1, 50, 100, 500, 1000]\n",
    "for ax, sample in zip(axes, samples):\n",
    "    im = Image.open(f\"images/{sample}.png\")\n",
    "    ax.get_xaxis().set_visible(False)\n",
    "    ax.get_yaxis().set_visible(False)\n",
    "    ax.set_title(f\"#{sample} / {dataset_size}\")\n",
    "    ax.imshow(im)"
   ]
  },
  {
   "cell_type": "markdown",
   "metadata": {},
   "source": [
    "## Часть вторая, в которой появляется модель"
   ]
  },
  {
   "cell_type": "markdown",
   "metadata": {},
   "source": [
    "### Импорты"
   ]
  },
  {
   "cell_type": "code",
   "execution_count": 13,
   "metadata": {},
   "outputs": [],
   "source": [
    "import keras\n",
    "import tensorflow as tf\n",
    "from keras.models import Sequential, Model\n",
    "from keras.layers import Dense, Flatten, Input, Reshape\n",
    "from keras.layers import Conv2D, MaxPooling2D\n",
    "from keras.layers.advanced_activations import LeakyReLU, PReLU\n",
    "from keras import backend as K\n",
    "from keras.preprocessing.image import img_to_array\n",
    "import numpy as np\n",
    "import sys"
   ]
  },
  {
   "cell_type": "code",
   "execution_count": 14,
   "metadata": {},
   "outputs": [],
   "source": [
    "tf.compat.v1.disable_v2_behavior()"
   ]
  },
  {
   "cell_type": "markdown",
   "metadata": {},
   "source": [
    "### YOLO"
   ]
  },
  {
   "cell_type": "code",
   "execution_count": 15,
   "metadata": {},
   "outputs": [
    {
     "name": "stdout",
     "output_type": "stream",
     "text": [
      "Model: \"model_3\"\n",
      "_________________________________________________________________\n",
      "Layer (type)                 Output Shape              Param #   \n",
      "=================================================================\n",
      "input_2 (InputLayer)         [(None, 64, 64, 3)]       0         \n",
      "_________________________________________________________________\n",
      "conv2d_4 (Conv2D)            (None, 64, 64, 16)        64        \n",
      "_________________________________________________________________\n",
      "conv2d_5 (Conv2D)            (None, 62, 62, 32)        4640      \n",
      "_________________________________________________________________\n",
      "leaky_re_lu_2 (LeakyReLU)    (None, 62, 62, 32)        0         \n",
      "_________________________________________________________________\n",
      "max_pooling2d_2 (MaxPooling2 (None, 31, 31, 32)        0         \n",
      "_________________________________________________________________\n",
      "conv2d_6 (Conv2D)            (None, 29, 29, 16)        4624      \n",
      "_________________________________________________________________\n",
      "conv2d_7 (Conv2D)            (None, 27, 27, 32)        4640      \n",
      "_________________________________________________________________\n",
      "leaky_re_lu_3 (LeakyReLU)    (None, 27, 27, 32)        0         \n",
      "_________________________________________________________________\n",
      "max_pooling2d_3 (MaxPooling2 (None, 13, 13, 32)        0         \n",
      "_________________________________________________________________\n",
      "flatten_1 (Flatten)          (None, 5408)              0         \n",
      "_________________________________________________________________\n",
      "dense_2 (Dense)              (None, 256)               1384704   \n",
      "_________________________________________________________________\n",
      "dense_3 (Dense)              (None, 32)                8224      \n",
      "_________________________________________________________________\n",
      "reshape_1 (Reshape)          (None, 4, 8)              0         \n",
      "=================================================================\n",
      "Total params: 1,406,896\n",
      "Trainable params: 1,406,896\n",
      "Non-trainable params: 0\n",
      "_________________________________________________________________\n",
      "None\n"
     ]
    }
   ],
   "source": [
    "nb_boxes=1\n",
    "grid_w=2\n",
    "grid_h=2\n",
    "cell_w=32\n",
    "cell_h=32\n",
    "img_w=grid_w*cell_w\n",
    "img_h=grid_h*cell_h\n",
    "\n",
    "#\n",
    "# Read input image and output prediction\n",
    "#\n",
    "def load_image(j):\n",
    "    img = Image.open('images/%d.png' % j)\n",
    "    \n",
    "    x_t = img_to_array(img)\n",
    "\n",
    "    with open(\"labels/%d.txt\" % j, \"r\") as f:\n",
    "        y_t = []\n",
    "        for row in range(grid_w):\n",
    "            for col in range(grid_h):\n",
    "                c_t = [float(i) for i in f.readline().split()]\n",
    "                [x, y, w, h] = [float(i) for i in f.readline().split()]        \n",
    "                conf_t = [float(i) for i in f.readline().split()]                \n",
    "                elt = []\n",
    "                elt += c_t\n",
    "                for b in range(nb_boxes):\n",
    "                    elt += [x/cell_w, y/cell_h, w/img_w, h/img_h] + conf_t\n",
    "                y_t.append(elt)\n",
    "        assert(f.readline()==\"---\\n\")\n",
    "        \n",
    "    return [x_t, y_t]\n",
    "\n",
    "#\n",
    "# Define the deep learning network\n",
    "#\n",
    "\n",
    "# model 2\n",
    "i = Input(shape=(img_h,img_w,3))\n",
    "\n",
    "x = Conv2D(16, (1, 1))(i)\n",
    "x = Conv2D(32, (3, 3))(x)\n",
    "x = keras.layers.LeakyReLU(alpha=0.3)(x)\n",
    "x = MaxPooling2D(pool_size=(2, 2))(x)\n",
    "x = Conv2D(16, (3, 3))(x)\n",
    "x = Conv2D(32, (3, 3))(x)\n",
    "x = keras.layers.LeakyReLU(alpha=0.3)(x)\n",
    "x = MaxPooling2D(pool_size=(2, 2))(x)\n",
    "#x = Dropout(0.25)(x)\n",
    "\n",
    "x = Flatten()(x)\n",
    "x = Dense(256, activation='sigmoid')(x)\n",
    "x = Dense(grid_w*grid_h*(3+nb_boxes*5), activation='sigmoid')(x)\n",
    "x = Reshape((grid_w*grid_h,(3+nb_boxes*5)))(x)\n",
    "\n",
    "model = Model(i, x)\n",
    "\n",
    "#\n",
    "# The loss function orient the backpropagation algorithm toward the best direction.\n",
    "#It does so by outputting a number. The larger the number, the further we are from a correct solution.\n",
    "#Keras also accept that we output a tensor. In that case it will just sum all the numbers to get a single number.\n",
    "# \n",
    "# y_true is training data\n",
    "# y_pred is value predicted by the network\n",
    "tf.autograph.experimental.do_not_convert\n",
    "def custom_loss(y_true, y_pred):\n",
    "    # define a grid of offsets\n",
    "    # [[[ 0.  0.]]\n",
    "    # [[ 1.  0.]]\n",
    "    # [[ 0.  1.]]\n",
    "    # [[ 1.  1.]]]\n",
    "    grid = np.array([ [[float(x),float(y)]]*nb_boxes   for y in range(grid_h) for x in range(grid_w)])\n",
    "\n",
    "    # first three values are classes : cat, rat, and none.\n",
    "    # However yolo doesn't predict none as a class, none is everything else and is just not predicted\n",
    "    # so I don't use it in the loss\n",
    "    y_true_class = y_true[...,0:2]\n",
    "    y_pred_class = y_pred[...,0:2] \n",
    "\n",
    "    # reshape array as a list of grid / grid cells / boxes / of 5 elements\n",
    "    pred_boxes = K.reshape(y_pred[...,3:], (-1,grid_w*grid_h,nb_boxes,5))\n",
    "    true_boxes = K.reshape(y_true[...,3:], (-1,grid_w*grid_h,nb_boxes,5))\n",
    "    \n",
    "    # sum coordinates of center of boxes with cell offsets.\n",
    "    # as pred boxes are limited to 0 to 1 range, pred x,y + offset is limited to predicting elements inside a cell\n",
    "    y_pred_xy   = pred_boxes[...,0:2] + K.variable(grid)\n",
    "    # w and h predicted are 0 to 1 with 1 being image size\n",
    "    y_pred_wh   = pred_boxes[...,2:4]\n",
    "    # probability that there is something to predict here\n",
    "    y_pred_conf = pred_boxes[...,4]\n",
    "\n",
    "    # same as predicate except that we don't need to add an offset, coordinate are already between 0 and cell count\n",
    "    y_true_xy   = true_boxes[...,0:2]\n",
    "    # with and height\n",
    "    y_true_wh   = true_boxes[...,2:4]\n",
    "    # probability that there is something in that cell. 0 or 1 here as it's a certitude.\n",
    "    y_true_conf = true_boxes[...,4]\n",
    "\n",
    "    clss_loss  = K.sum(K.square(y_true_class - y_pred_class), axis=-1)\n",
    "    xy_loss    = K.sum(K.sum(K.square(y_true_xy - y_pred_xy),axis=-1)*y_true_conf, axis=-1)\n",
    "    wh_loss    = K.sum(K.sum(K.square(K.sqrt(y_true_wh) - K.sqrt(y_pred_wh)), axis=-1)*y_true_conf, axis=-1)\n",
    "\n",
    "    # when we add the confidence the box prediction lower in quality but we gain the estimation of the quality of the box\n",
    "    # however the training is a bit unstable\n",
    "\n",
    "    # compute the intersection of all boxes at once (the IOU)\n",
    "    intersect_wh = K.maximum(K.zeros_like(y_pred_wh), (y_pred_wh + y_true_wh)/2 - K.square(y_pred_xy - y_true_xy) )\n",
    "    intersect_area = intersect_wh[...,0] * intersect_wh[...,1]\n",
    "    true_area = y_true_wh[...,0] * y_true_wh[...,1]\n",
    "    pred_area = y_pred_wh[...,0] * y_pred_wh[...,1]\n",
    "    union_area = pred_area + true_area - intersect_area\n",
    "    iou = intersect_area / union_area\n",
    "\n",
    "    conf_loss = K.sum(K.square(y_true_conf*iou - y_pred_conf), axis=-1)\n",
    "\n",
    "    # final loss function\n",
    "    d = xy_loss + wh_loss + conf_loss + clss_loss\n",
    "    \n",
    "    if False:\n",
    "        d = tf.Print(d, [d], \"loss\")\n",
    "        d = tf.Print(d, [xy_loss], \"xy_loss\")\n",
    "        d = tf.Print(d, [wh_loss], \"wh_loss\")\n",
    "        d = tf.Print(d, [clss_loss], \"clss_loss\")\n",
    "        d = tf.Print(d, [conf_loss], \"conf_loss\")\n",
    "    \n",
    "    return d\n",
    "\n",
    "model = Model(i, x)\n",
    "\n",
    "adam = keras.optimizers.Adam(lr=0.001, beta_1=0.9, beta_2=0.999, decay=0.01)\n",
    "model.compile(loss=custom_loss, optimizer=adam)\n",
    "\n",
    "print(model.summary())"
   ]
  },
  {
   "cell_type": "markdown",
   "metadata": {},
   "source": [
    "Обучим модель."
   ]
  },
  {
   "cell_type": "code",
   "execution_count": 16,
   "metadata": {},
   "outputs": [
    {
     "name": "stdout",
     "output_type": "stream",
     "text": [
      "Train on 4990 samples\n",
      "Epoch 1/20\n",
      "4990/4990 [==============================] - 11s 2ms/sample - loss: 0.5785\n",
      "Epoch 2/20\n",
      "4990/4990 [==============================] - 12s 2ms/sample - loss: 0.5167\n",
      "Epoch 3/20\n",
      "4990/4990 [==============================] - 12s 2ms/sample - loss: 0.4920\n",
      "Epoch 4/20\n",
      "4990/4990 [==============================] - 11s 2ms/sample - loss: 0.4755\n",
      "Epoch 5/20\n",
      "4990/4990 [==============================] - 11s 2ms/sample - loss: 0.4353\n",
      "Epoch 6/20\n",
      "4990/4990 [==============================] - 11s 2ms/sample - loss: 0.2764\n",
      "Epoch 7/20\n",
      "4990/4990 [==============================] - 11s 2ms/sample - loss: 0.1940\n",
      "Epoch 8/20\n",
      "4990/4990 [==============================] - 11s 2ms/sample - loss: 0.1585\n",
      "Epoch 9/20\n",
      "4990/4990 [==============================] - 11s 2ms/sample - loss: 0.1353\n",
      "Epoch 10/20\n",
      "4990/4990 [==============================] - 11s 2ms/sample - loss: 0.1189\n",
      "Epoch 11/20\n",
      "4990/4990 [==============================] - 11s 2ms/sample - loss: 0.1062\n",
      "Epoch 12/20\n",
      "4990/4990 [==============================] - 11s 2ms/sample - loss: 0.0953\n",
      "Epoch 13/20\n",
      "4990/4990 [==============================] - 11s 2ms/sample - loss: 0.0868\n",
      "Epoch 14/20\n",
      "4990/4990 [==============================] - 11s 2ms/sample - loss: 0.0802\n",
      "Epoch 15/20\n",
      "4990/4990 [==============================] - 11s 2ms/sample - loss: 0.0743\n",
      "Epoch 16/20\n",
      "4990/4990 [==============================] - 11s 2ms/sample - loss: 0.0698\n",
      "Epoch 17/20\n",
      "4990/4990 [==============================] - 11s 2ms/sample - loss: 0.0659\n",
      "Epoch 18/20\n",
      "4990/4990 [==============================] - 11s 2ms/sample - loss: 0.0627\n",
      "Epoch 19/20\n",
      "4990/4990 [==============================] - 11s 2ms/sample - loss: 0.0600\n",
      "Epoch 20/20\n",
      "4990/4990 [==============================] - 11s 2ms/sample - loss: 0.0576\n"
     ]
    }
   ],
   "source": [
    "x_train = []\n",
    "y_train = []\n",
    "\n",
    "for j in range(11, dataset_size+1):\n",
    "    [x,y] = load_image(j)\n",
    "    x_train.append(x)\n",
    "    y_train.append(y)\n",
    "\n",
    "x_train = np.array(x_train)\n",
    "y_train = np.array(y_train)\n",
    "\n",
    "\n",
    "model.fit(x_train, y_train, batch_size=64, epochs=20)\n",
    "model.save_weights('weights.h5')"
   ]
  },
  {
   "cell_type": "markdown",
   "metadata": {},
   "source": [
    "## Часть третья, в которой модель применяется на тестовых данных"
   ]
  },
  {
   "cell_type": "code",
   "execution_count": 17,
   "metadata": {},
   "outputs": [
    {
     "data": {
      "image/png": "[encoded data removed]",
      "text/plain": [
       "<Figure size 1800x720 with 10 Axes>"
      ]
     },
     "metadata": {
      "needs_background": "light"
     },
     "output_type": "display_data"
    }
   ],
   "source": [
    "fig = plt.figure(figsize=(25, 10))\n",
    "axes = fig.subplots(2, 5)\n",
    "\n",
    "for j in range(10):\n",
    "    img = Image.open(f\"images/{j + 1}.png\")\n",
    "    P = model.predict(np.array([img_to_array(img)]))\n",
    " \n",
    "    for row in range(grid_w):\n",
    "        for col in range(grid_h):\n",
    "            p = P[0][col * grid_h + row]\n",
    "\n",
    "            boxes = p[3:].reshape(nb_boxes,5)\n",
    "            clss = np.argmax(p[0:2])\n",
    "            \n",
    "            ax = axes[j // 5][j % 5]\n",
    "            ax.imshow(img)\n",
    "            ax.get_xaxis().set_visible(False)\n",
    "            ax.get_yaxis().set_visible(False)\n",
    "\n",
    "            i = 0\n",
    "            for b in boxes:\n",
    "                x = b[0]+float(row)\n",
    "                y = b[1]+float(col)\n",
    "                w = b[2]\n",
    "                h = b[3]\n",
    "                conf = b[4]\n",
    "                if conf < 0.5:\n",
    "                    continue\n",
    "\n",
    "                color = ['r','g','b'][clss]\n",
    "                rect = patches.Rectangle((x*cell_w-w/2*img_w, y*cell_h-h/2*img_h), w*img_h, h*img_h, linewidth=1,edgecolor=color,facecolor='none')\n",
    "                ax.add_patch(rect)\n",
    "\n",
    "                ax.text( (x*cell_w-w/2*img_w) / img_w, 1-(y*cell_h-h/2*img_h)/img_h-i*0.15, \"%0.2f\" % (conf), transform=ax.transAxes, color=color)\n",
    "                i+=1"
   ]
  },
  {
   "cell_type": "code",
   "execution_count": null,
   "metadata": {},
   "outputs": [],
   "source": []
  }
 ],
 "metadata": {
  "kernelspec": {
   "display_name": "Python 3",
   "language": "python",
   "name": "python3"
  },
  "language_info": {
   "codemirror_mode": {
    "name": "ipython",
    "version": 3
   },
   "file_extension": ".py",
   "mimetype": "text/x-python",
   "name": "python",
   "nbconvert_exporter": "python",
   "pygments_lexer": "ipython3",
   "version": "3.7.9"
  }
 },
 "nbformat": 4,
 "nbformat_minor": 4
}
